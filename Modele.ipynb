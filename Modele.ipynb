{
 "cells": [
  {
   "cell_type": "code",
   "execution_count": 1,
   "id": "68162b81-1292-4482-88dd-540ebd1b6e37",
   "metadata": {},
   "outputs": [
    {
     "ename": "NameError",
     "evalue": "name 'df_clean' is not defined",
     "output_type": "error",
     "traceback": [
      "\u001b[1;31m---------------------------------------------------------------------------\u001b[0m",
      "\u001b[1;31mNameError\u001b[0m                                 Traceback (most recent call last)",
      "\u001b[1;32m<ipython-input-1-53da76502cad>\u001b[0m in \u001b[0;36m<module>\u001b[1;34m\u001b[0m\n\u001b[0;32m      1\u001b[0m \u001b[1;31m#Préparation pour le KNN\u001b[0m\u001b[1;33m\u001b[0m\u001b[1;33m\u001b[0m\u001b[1;33m\u001b[0m\u001b[0m\n\u001b[0;32m      2\u001b[0m \u001b[1;31m#Suppression des deux dernières colonnes\u001b[0m\u001b[1;33m\u001b[0m\u001b[1;33m\u001b[0m\u001b[1;33m\u001b[0m\u001b[0m\n\u001b[1;32m----> 3\u001b[1;33m \u001b[0mdf_toAnalyse\u001b[0m \u001b[1;33m=\u001b[0m \u001b[0mdf_clean\u001b[0m\u001b[1;33m.\u001b[0m\u001b[0mdrop\u001b[0m\u001b[1;33m(\u001b[0m\u001b[1;33m[\u001b[0m\u001b[1;34m\"movie_title\"\u001b[0m\u001b[1;33m,\u001b[0m\u001b[1;34m'country'\u001b[0m\u001b[1;33m]\u001b[0m\u001b[1;33m,\u001b[0m\u001b[0maxis\u001b[0m\u001b[1;33m=\u001b[0m\u001b[1;36m1\u001b[0m\u001b[1;33m)\u001b[0m\u001b[1;33m.\u001b[0m\u001b[0mto_numpy\u001b[0m\u001b[1;33m(\u001b[0m\u001b[1;33m)\u001b[0m\u001b[1;33m\u001b[0m\u001b[1;33m\u001b[0m\u001b[0m\n\u001b[0m\u001b[0;32m      4\u001b[0m \u001b[1;33m\u001b[0m\u001b[0m\n\u001b[0;32m      5\u001b[0m \u001b[1;31m# Centrage et Réductions afin de ne pas le répéter dans les différents algorithme\u001b[0m\u001b[1;33m\u001b[0m\u001b[1;33m\u001b[0m\u001b[1;33m\u001b[0m\u001b[0m\n",
      "\u001b[1;31mNameError\u001b[0m: name 'df_clean' is not defined"
     ]
    }
   ],
   "source": [
    "#Préparation pour le KNN\n",
    "#Suppression des deux dernières colonnes\n",
    "df_toAnalyse = df_clean.drop([\"movie_title\",'country'],axis=1).to_numpy()\n",
    "\n",
    "# Centrage et Réductions afin de ne pas le répéter dans les différents algorithme\n",
    "std_scale = preprocessing.StandardScaler().fit(df_toAnalyse)\n",
    "df_CentreReduit = std_scale.transform(df_toAnalyse)"
   ]
  },
  {
   "cell_type": "code",
   "execution_count": null,
   "id": "c894420c-a46a-44d9-820a-767947d70454",
   "metadata": {},
   "outputs": [],
   "source": [
    "#Algorithme KNN Plus proche voisin de façon BRUT sans ACP\n",
    "nbrs = NearestNeighbors(n_neighbors=6, algorithm='ball_tree').fit(df_CentreReduit)\n",
    "dist_KNN_BRUTE, ind_KNN_BRUTE = nbrs.kneighbors(df_CentreReduit)"
   ]
  },
  {
   "cell_type": "code",
   "execution_count": null,
   "id": "8a5299d8-f70f-4357-8083-fcbf51f277fe",
   "metadata": {},
   "outputs": [],
   "source": [
    "#KNN après ACP\n",
    "# choix du nombre de composantes à calculer\n",
    "n_comp = 8\n",
    "\n",
    "# Calcul des composantes principales\n",
    "pca = decomposition.PCA(n_components=n_comp)\n",
    "pca.fit(df_CentreReduit)\n",
    "X_ACP = pca.transform(df_CentreReduit)\n",
    "\n",
    "nbrs = NearestNeighbors(n_neighbors=6, algorithm='ball_tree').fit(X_ACP)\n",
    "dist_KNN_ACP, ind_KNN_ACP = nbrs.kneighbors(X_ACP)"
   ]
  },
  {
   "cell_type": "code",
   "execution_count": null,
   "id": "2001266f-f69d-4757-879f-0bb3f5449220",
   "metadata": {},
   "outputs": [],
   "source": [
    "#Algorithme KNN plus proche voisin après T_SNE\n",
    "from sklearn.manifold import TSNE\n",
    "tsne = TSNE()\n",
    "X_TSNE = tsne.fit_transform(df_CentreReduit)\n",
    "\n",
    "nbrs = NearestNeighbors(n_neighbors=6, algorithm='ball_tree').fit(X_TSNE)\n",
    "dist_KNN_TSNE, ind_KNN_TSNE = nbrs.kneighbors(X_TSNE)"
   ]
  },
  {
   "cell_type": "code",
   "execution_count": null,
   "id": "8a442bc5-d31c-481c-8bc1-6f4f7b280071",
   "metadata": {},
   "outputs": [],
   "source": [
    "#K-MEANS DETECTION DU NOMBRE DE CLUSTERS POUR TSNE\n",
    "sse = {}\n",
    "silhouette_avg = {}\n",
    "plusPetitCluster = {}\n",
    "for k in tqdm(range(25, 60)):\n",
    "    kmeans = KMeans(n_clusters=k, max_iter=1000).fit(X_TSNE)\n",
    "    sse[k] = kmeans.inertia_ # Inertia: Sum of distances of samples to their closest cluster center\n",
    "    silhouette_avg[k] = silhouette_score(X_TSNE, kmeans.labels_)\n",
    "    plusPetitCluster[k] = collections.Counter(kmeans.labels_).most_common()[len(collections.Counter(kmeans.labels_))-1][1]\n",
    "    \n",
    "plt.plot(list(sse.keys()),list(sse.values()))\n",
    "plt.xlabel('Nbre de cluster')\n",
    "plt.ylabel('Inertie')\n",
    "plt.title('Intertie suivant le nombre de Cluster')\n",
    "plt.show()\n",
    "\n",
    "plt.plot(list(silhouette_avg.keys()),list(silhouette_avg.values()))\n",
    "plt.xlabel('Nbre de cluster')\n",
    "plt.ylabel('Silhouette')\n",
    "plt.title('Silhouette suivant le nombre de Cluster')\n",
    "plt.show()\n",
    "\n",
    "plt.plot(list(plusPetitCluster.keys()),list(plusPetitCluster.values()))\n",
    "plt.xlabel('Nbre de Cluster')\n",
    "plt.ylabel('Taille du Plus petit Cluster')\n",
    "plt.title('Evolution de la taille du plus petit Cluster')\n",
    "plt.show()"
   ]
  },
  {
   "cell_type": "code",
   "execution_count": null,
   "id": "115026fd-c0c9-418b-a98a-4e1179c4ad47",
   "metadata": {},
   "outputs": [],
   "source": [
    "#K-MEANS DETECTION DU NOMBRE DE CLUSTERS POUR DONNEES BRUTES\n",
    "sse = {}\n",
    "silhouette_avg = {}\n",
    "plusPetitCluster = {}\n",
    "for k in tqdm(range(15, 90)):\n",
    "    kmeans = KMeans(n_clusters=k, max_iter=1000).fit(df_CentreReduit)\n",
    "    sse[k] = kmeans.inertia_ # Inertia: Sum of distances of samples to their closest cluster center\n",
    "    silhouette_avg[k] = silhouette_score(df_CentreReduit, kmeans.labels_)\n",
    "    plusPetitCluster[k] = collections.Counter(kmeans.labels_).most_common()[len(collections.Counter(kmeans.labels_))-1][1]\n",
    "    \n",
    "plt.plot(list(sse.keys()),list(sse.values()))\n",
    "plt.xlabel('Nbre de cluster')\n",
    "plt.ylabel('Inertie')\n",
    "plt.title('Intertie suivant le nombre de Cluster')\n",
    "plt.show()\n",
    "\n",
    "plt.plot(list(silhouette_avg.keys()),list(silhouette_avg.values()))\n",
    "plt.xlabel('Nbre de cluster')\n",
    "plt.ylabel('Silhouette')\n",
    "plt.title('Silhouette suivant le nombre de Cluster')\n",
    "plt.show()\n",
    "\n",
    "plt.plot(list(plusPetitCluster.keys()),list(plusPetitCluster.values()))\n",
    "plt.xlabel('Nbre de Cluster')\n",
    "plt.ylabel('Taille du Plus petit Cluster')\n",
    "plt.title('Evolution de la taille du plus petit Cluster')\n",
    "plt.show()"
   ]
  },
  {
   "cell_type": "code",
   "execution_count": null,
   "id": "0b3f1058-15c0-4989-a379-22ddf3bbf6c0",
   "metadata": {},
   "outputs": [],
   "source": [
    "#K-MEANS DETECTION DU NOMBRE DE CLUSTERS POUR DONNEES ACP\n",
    "sse = {}\n",
    "silhouette_avg = {}\n",
    "plusPetitCluster = {}\n",
    "for k in tqdm(range(2, 20)):\n",
    "    kmeans = KMeans(n_clusters=k, max_iter=1000).fit(X_ACP)\n",
    "    sse[k] = kmeans.inertia_ # Inertia: Sum of distances of samples to their closest cluster center\n",
    "    silhouette_avg[k] = silhouette_score(X_ACP, kmeans.labels_)\n",
    "    plusPetitCluster[k] = collections.Counter(kmeans.labels_).most_common()[len(collections.Counter(kmeans.labels_))-1][1]\n",
    "    \n",
    "plt.plot(list(sse.keys()),list(sse.values()))\n",
    "plt.xlabel('Nbre de cluster')\n",
    "plt.ylabel('Inertie')\n",
    "plt.title('Intertie suivant le nombre de Cluster')\n",
    "plt.show()\n",
    "\n",
    "plt.plot(list(silhouette_avg.keys()),list(silhouette_avg.values()))\n",
    "plt.xlabel('Nbre de cluster')\n",
    "plt.ylabel('Silhouette')\n",
    "plt.title('Silhouette suivant le nombre de Cluster')\n",
    "plt.show()\n",
    "\n",
    "plt.plot(list(plusPetitCluster.keys()),list(plusPetitCluster.values()))\n",
    "plt.xlabel('Nbre de Cluster')\n",
    "plt.ylabel('Taille du Plus petit Cluster')\n",
    "plt.title('Evolution de la taille du plus petit Cluster')\n",
    "plt.show()"
   ]
  },
  {
   "cell_type": "code",
   "execution_count": null,
   "id": "1ba101fc-b8de-4c86-a108-8057956eca2a",
   "metadata": {},
   "outputs": [],
   "source": [
    "#Kmeans avec 25 clusters sur Données Brute\n",
    "kmeans = KMeans(n_clusters=80, max_iter=1000).fit(df_CentreReduit)\n",
    "kmeans_labels_Brute = kmeans.labels_\n",
    "print(silhouette_score(df_CentreReduit, kmeans_labels_Brute))"
   ]
  },
  {
   "cell_type": "code",
   "execution_count": null,
   "id": "2bcf7b31-a138-47ac-8fb6-0bbe2b2b87c5",
   "metadata": {},
   "outputs": [],
   "source": [
    "#Kmeans avec 25 clusters sur ACP\n",
    "kmeans = KMeans(n_clusters=8, max_iter=1000).fit(X_ACP)\n",
    "kmeans_labels_ACP = kmeans.labels_\n",
    "print(silhouette_score(X_ACP, kmeans_labels_ACP))"
   ]
  },
  {
   "cell_type": "code",
   "execution_count": null,
   "id": "b89c4e8c-1080-4846-bdf1-671e31de6b4c",
   "metadata": {},
   "outputs": [],
   "source": [
    "#Kmeans avec 25 clusters sur TSNE\n",
    "kmeans = KMeans(n_clusters=48, max_iter=1000).fit(X_TSNE)\n",
    "kmeans_labels_TSNE = kmeans.labels_\n",
    "print(silhouette_score(X_TSNE, kmeans_labels_TSNE))"
   ]
  },
  {
   "cell_type": "code",
   "execution_count": null,
   "id": "4dfd5a42-2545-44fa-a10b-8e0ed94516ab",
   "metadata": {},
   "outputs": [],
   "source": [
    "#GOWER\n",
    "from sklearn.neighbors import DistanceMetric\n",
    "from sklearn.preprocessing import MinMaxScaler\n",
    "#Calcul des distances en prenant en compte les données quantitatives des qualitatives\n",
    "\n",
    "#indicateurs numériques\n",
    "indNum = ['num_critic_for_reviews','duration','director_facebook_likes','num_voted_users','cast_total_facebook_likes','budget',\n",
    "          'title_year','imdb_score','movie_facebook_likes','actor_1_facebook_likes','num_user_for_reviews','actor_2_facebook_likes']\n",
    "\n",
    "df_Numerique = df_full_cat.loc[:,indNum]\n",
    "df_Categorie = df_full_cat.drop(indNum,axis=1)\n",
    "df_Categorie = df_Categorie.drop([\"movie_title\",'country'],axis=1)\n",
    "\n",
    "#Calcul de la distance sur les données numériques\n",
    "DistanceMetrique = DistanceMetric.get_metric('manhattan').pairwise(df_Numerique)\n",
    "# Centrage et Réductions\n",
    "#std_scale = preprocessing.StandardScaler().fit(DistanceMetrique)\n",
    "#DistanceMetrique_CentreReduit = std_scale.transform(DistanceMetrique)\n",
    "\n",
    "scaler = MinMaxScaler()\n",
    "scaler.fit(DistanceMetrique)\n",
    "DistanceMetrique_CentreReduit = scaler.transform(DistanceMetrique)\n",
    "\n",
    "#Calcul de la distance sur les données catégorielles\n",
    "DistanceCategoriel = DistanceMetric.get_metric('dice').pairwise(df_Categorie)\n",
    "\n",
    "#Calcul de GOWER\n",
    "#Distance catégoriel + Distance métrique divisé par le nombre de variable\n",
    "DistanceTotal  = (DistanceCategoriel + DistanceMetrique_CentreReduit) / df_Categorie.shape[1] + df_Numerique.shape[1]"
   ]
  },
  {
   "cell_type": "code",
   "execution_count": null,
   "id": "7c8988e2-2d8b-47d6-923b-8e42442e3a55",
   "metadata": {},
   "outputs": [],
   "source": [
    "#Ecriture du fichier à exploiter au niveau de l'API\n",
    "dfForApi = pd.DataFrame(ind_KNN_TSNE)\n",
    "dfForApi.insert(0, \"nomFilm\", df['movie_title'], allow_duplicates=False)\n",
    "dfForApi.to_csv('KNN_BRUTE.csv', sep = '\\t', encoding='UTF-8')"
   ]
  }
 ],
 "metadata": {
  "kernelspec": {
   "display_name": "Python 3 (ipykernel)",
   "language": "python",
   "name": "python3"
  },
  "language_info": {
   "codemirror_mode": {
    "name": "ipython",
    "version": 3
   },
   "file_extension": ".py",
   "mimetype": "text/x-python",
   "name": "python",
   "nbconvert_exporter": "python",
   "pygments_lexer": "ipython3",
   "version": "3.9.7"
  }
 },
 "nbformat": 4,
 "nbformat_minor": 5
}
